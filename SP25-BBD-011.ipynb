{
 "cells": [
  {
   "cell_type": "markdown",
   "id": "c72f8ffb-56c1-4b30-8ddc-3a5119063012",
   "metadata": {},
   "source": [
    "# Question # 1"
   ]
  },
  {
   "cell_type": "code",
   "execution_count": 2,
   "id": "03c5eb83-8125-417a-b18b-3cf393b07b95",
   "metadata": {},
   "outputs": [
    {
     "name": "stdout",
     "output_type": "stream",
     "text": [
      "A dog would make a great pet.\n",
      "A cat would make a great pet.\n",
      "A rabbit would make a great pet.\n",
      "Any of these animals would make a great pet!\n"
     ]
    }
   ],
   "source": [
    "# List of animals\n",
    "animals = ['dog', 'cat', 'rabbit']\n",
    "\n",
    "#Loop through the list and print a statement about each animal\n",
    "for animal in animals:\n",
    "    print(f\"A {animal} would make a great pet.\")\n",
    "\n",
    "# Print a common statement about the animals\n",
    "print(\"Any of these animals would make a great pet!\")\n"
   ]
  },
  {
   "cell_type": "markdown",
   "id": "c129fba8-769d-481e-ab05-a0d630d639c3",
   "metadata": {},
   "source": [
    "# Question # 2"
   ]
  },
  {
   "cell_type": "code",
   "execution_count": 4,
   "id": "d208e05c-4546-4b10-b8a7-ff4a8641822b",
   "metadata": {},
   "outputs": [
    {
     "name": "stdout",
     "output_type": "stream",
     "text": [
      "3\n",
      "6\n",
      "9\n",
      "12\n",
      "15\n",
      "18\n",
      "21\n",
      "24\n",
      "27\n",
      "30\n",
      "[1, 8, 27, 64, 125, 216, 343, 512, 729, 1000]\n"
     ]
    }
   ],
   "source": [
    "# Multiples of 3 from 3 to 30\n",
    "multiples_of_3 = list(range(3, 31, 3))\n",
    "\n",
    "# Print the list of multiples of 3\n",
    "for number in multiples_of_3:\n",
    "    print(number)\n",
    "\n",
    "# First 10 cubes using list comprehension\n",
    "cubes = [x**3 for x in range(1, 11)]\n",
    "\n",
    "# Print the list of cubes\n",
    "print(cubes)\n"
   ]
  },
  {
   "cell_type": "markdown",
   "id": "ee76584c-a52f-4c4a-a6eb-ee8582f6f94e",
   "metadata": {},
   "source": [
    "# Question # 3"
   ]
  },
  {
   "cell_type": "code",
   "execution_count": 17,
   "id": "8db32680-559c-4cea-b848-8b06e4d55c8c",
   "metadata": {},
   "outputs": [
    {
     "name": "stdout",
     "output_type": "stream",
     "text": [
      "pizzata\n",
      "cheese balls\n",
      "pudding\n",
      "cream salad\n",
      "custard\n",
      "triffle\n",
      "thai clear soup\n",
      "dynamite shrimps\n",
      "beef chilli dry\n",
      "golden fried prons\n"
     ]
    }
   ],
   "source": [
    "#Tuple of foods\n",
    "foods = ('pizzata', 'cheese balls', 'pudding', 'cream salad', 'custard')\n",
    "\n",
    "# Print each food the restaurant offers\n",
    "for food in foods:\n",
    "    print(food)\n",
    "\n",
    "# Change the menu by rewriting the tuple\n",
    "foods = ('triffle', 'thai clear soup', 'dynamite shrimps', 'beef chilli dry', 'golden fried prons')\n",
    "\n",
    "# Print the updated menu\n",
    "for food in foods:\n",
    "    print(food)\n"
   ]
  },
  {
   "cell_type": "markdown",
   "id": "f4553f4e-5ce4-4239-b00c-5a637fe3e496",
   "metadata": {},
   "source": [
    "# Question # 4"
   ]
  },
  {
   "cell_type": "code",
   "execution_count": 8,
   "id": "69662a28-adba-4529-8c89-be4aa806f1bd",
   "metadata": {},
   "outputs": [
    {
     "name": "stdout",
     "output_type": "stream",
     "text": [
      "Hello alice, thank you for logging in again.\n",
      "Hello bob, thank you for logging in again.\n",
      "Hello admin, would you like to see a status report?\n",
      "Hello john, thank you for logging in again.\n",
      "Hello mary, thank you for logging in again.\n"
     ]
    }
   ],
   "source": [
    "# List of usernames\n",
    "users = ['alice', 'bob', 'admin', 'john', 'mary']\n",
    "\n",
    "# Loop through the list and greet each user\n",
    "for user in users:\n",
    "    if user == 'admin':\n",
    "        print(\"Hello admin, would you like to see a status report?\")\n",
    "    else:\n",
    "        print(f\"Hello {user}, thank you for logging in again.\")\n"
   ]
  },
  {
   "cell_type": "markdown",
   "id": "9aad7276-9f97-4df2-b6c5-fdacfb657385",
   "metadata": {},
   "source": [
    "# Question # 5"
   ]
  },
  {
   "cell_type": "code",
   "execution_count": 10,
   "id": "83e97abe-6929-48bc-8212-bf4238d11436",
   "metadata": {},
   "outputs": [
    {
     "name": "stdout",
     "output_type": "stream",
     "text": [
      "alice has already been used. You need to create a new one.\n",
      "charlie is available.\n",
      "admin has already been used. You need to create a new one.\n",
      "david is available.\n",
      "bob has already been used. You need to create a new one.\n"
     ]
    }
   ],
   "source": [
    "# List of current users and new users\n",
    "current_users = ['alice', 'bob', 'john', 'admin', 'mary']\n",
    "new_users = ['alice', 'charlie', 'admin', 'david', 'bob']\n",
    "\n",
    "#  Check if each new username is already taken\n",
    "for new_user in new_users:\n",
    "    if new_user.lower() in [user.lower() for user in current_users]:\n",
    "        print(f\"{new_user} has already been used. You need to create a new one.\")\n",
    "    else:\n",
    "        print(f\"{new_user} is available.\")\n"
   ]
  },
  {
   "cell_type": "code",
   "execution_count": null,
   "id": "7b90fbbe-bf7e-487b-8c94-1ba64840d303",
   "metadata": {},
   "outputs": [],
   "source": []
  }
 ],
 "metadata": {
  "kernelspec": {
   "display_name": "Python [conda env:base]",
   "language": "python",
   "name": "conda-base-py"
  },
  "language_info": {
   "codemirror_mode": {
    "name": "ipython",
    "version": 3
   },
   "file_extension": ".py",
   "mimetype": "text/x-python",
   "name": "python",
   "nbconvert_exporter": "python",
   "pygments_lexer": "ipython3",
   "version": "3.12.7"
  }
 },
 "nbformat": 4,
 "nbformat_minor": 5
}
