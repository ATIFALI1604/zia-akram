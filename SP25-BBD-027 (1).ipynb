{
 "cells": [
  {
   "cell_type": "markdown",
   "id": "3dde19d9-91f2-4111-9018-c7a21c5b28bb",
   "metadata": {},
   "source": [
    "# Question # 1: List of animals "
   ]
  },
  {
   "cell_type": "code",
   "execution_count": 2,
   "id": "38cb90c7-b916-4d1a-ae5a-8b9c12659172",
   "metadata": {},
   "outputs": [
    {
     "name": "stdout",
     "output_type": "stream",
     "text": [
      "A giraffe would make a great pet.\n",
      "A panda would make a great pet.\n",
      "A bear would make a great pet.\n",
      "Any of these animals would make a great pet!\n"
     ]
    }
   ],
   "source": [
    "animals = ['giraffe', 'panda', 'bear']\n",
    "for animal in animals:\n",
    "    print(f\"A {animal} would make a great pet.\")\n",
    "print(\"Any of these animals would make a great pet!\")"
   ]
  },
  {
   "cell_type": "markdown",
   "id": "d9971b7c-3065-47e5-ba79-c1457ab00ac4",
   "metadata": {},
   "source": [
    "# Question # 2: Range 3"
   ]
  },
  {
   "cell_type": "code",
   "execution_count": 4,
   "id": "f65eb16c-3b09-437d-b1fd-eecb30c56f4a",
   "metadata": {},
   "outputs": [
    {
     "name": "stdout",
     "output_type": "stream",
     "text": [
      "3\n",
      "6\n",
      "9\n",
      "12\n",
      "15\n",
      "18\n",
      "21\n",
      "24\n",
      "27\n",
      "30\n",
      "[1, 8, 27, 64, 125, 216, 343, 512, 729, 1000]\n"
     ]
    }
   ],
   "source": [
    "multiples_of_3 = list(range(3, 31, 3))\n",
    "for number in multiples_of_3:\n",
    "    print(number)\n",
    "cubes = [x**3 for x in range(1, 11)]\n",
    "print(cubes)\n"
   ]
  },
  {
   "cell_type": "markdown",
   "id": "075a07dd-e3ad-4e1c-bab1-02021a2bc168",
   "metadata": {},
   "source": [
    "# Question # 3: Basic Foods"
   ]
  },
  {
   "cell_type": "code",
   "execution_count": 17,
   "id": "0ca1e763-a85a-4dce-97d6-4877cdf43e64",
   "metadata": {},
   "outputs": [
    {
     "name": "stdout",
     "output_type": "stream",
     "text": [
      "mustard sauce beans\n",
      "thin crust pizza\n",
      "chicken patti\n",
      "cheese roll\n",
      "cheese chowmein\n",
      "blazin\n",
      "buldak\n",
      "chicken burger\n",
      "vegetable salad\n",
      "chicken tacos\n"
     ]
    }
   ],
   "source": [
    "foods = ('mustard sauce beans', 'thin crust pizza', 'chicken patti', 'cheese roll', 'cheese chowmein')\n",
    "for food in foods:\n",
    "    print(food)\n",
    "foods = ('blazin', 'buldak', 'chicken burger', 'vegetable salad', 'chicken tacos')\n",
    "for food in foods:\n",
    "    print(food)\n"
   ]
  },
  {
   "cell_type": "markdown",
   "id": "01f9af7b-912a-477c-a3ba-aa2d5765d3d0",
   "metadata": {},
   "source": [
    "# Question # 4: Usernames"
   ]
  },
  {
   "cell_type": "code",
   "execution_count": 8,
   "id": "e80c26fa-9d1e-443e-a839-ed0ee397ecca",
   "metadata": {},
   "outputs": [
    {
     "name": "stdout",
     "output_type": "stream",
     "text": [
      "Hello ella, thank you for logging in again.\n",
      "Hello ben, thank you for logging in again.\n",
      "Hello admin, would you like to see a status report?\n",
      "Hello alex, thank you for logging in again.\n",
      "Hello volkov, thank you for logging in again.\n"
     ]
    }
   ],
   "source": [
    "users = ['ella', 'ben', 'admin', 'alex', 'volkov']\n",
    "for user in users:\n",
    "    if user == 'admin':\n",
    "        print(\"Hello admin, would you like to see a status report?\")\n",
    "    else:\n",
    "        print(f\"Hello {user}, thank you for logging in again.\")\n"
   ]
  },
  {
   "cell_type": "markdown",
   "id": "165370bc-bf3d-44d2-99f7-50ee0d4164f4",
   "metadata": {},
   "source": [
    "# Question # 5: Websites"
   ]
  },
  {
   "cell_type": "code",
   "execution_count": 10,
   "id": "55308dae-41e9-4a04-9379-d02777ea3d60",
   "metadata": {},
   "outputs": [
    {
     "name": "stdout",
     "output_type": "stream",
     "text": [
      "alex has already been used. You need to create a new one.\n",
      "ella has already been used. You need to create a new one.\n",
      "admin has already been used. You need to create a new one.\n",
      "volkov has already been used. You need to create a new one.\n",
      "ben has already been used. You need to create a new one.\n"
     ]
    }
   ],
   "source": [
    "current_users = ['ella', 'ben', 'admin', 'alex', 'volkov']\n",
    "new_users = ['alex', 'ella', 'admin', 'volkov', 'ben']\n",
    "for new_user in new_users:\n",
    "    if new_user.lower() in [user.lower() for user in current_users]:\n",
    "        print(f\"{new_user} has already been used. You need to create a new one.\")\n",
    "    else:\n",
    "        print(f\"{new_user} is available.\")\n"
   ]
  },
  {
   "cell_type": "code",
   "execution_count": null,
   "id": "6833b2ab-33b7-485a-ae71-e3c9226afa51",
   "metadata": {},
   "outputs": [],
   "source": []
  }
 ],
 "metadata": {
  "kernelspec": {
   "display_name": "Python [conda env:base]",
   "language": "python",
   "name": "conda-base-py"
  },
  "language_info": {
   "codemirror_mode": {
    "name": "ipython",
    "version": 3
   },
   "file_extension": ".py",
   "mimetype": "text/x-python",
   "name": "python",
   "nbconvert_exporter": "python",
   "pygments_lexer": "ipython3",
   "version": "3.12.7"
  }
 },
 "nbformat": 4,
 "nbformat_minor": 5
}
