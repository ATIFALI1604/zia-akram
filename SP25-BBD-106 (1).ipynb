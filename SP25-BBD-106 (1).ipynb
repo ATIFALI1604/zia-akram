{
 "cells": [
  {
   "cell_type": "markdown",
   "id": "074a27c7-7d83-44e8-976b-f5af2cdd06df",
   "metadata": {},
   "source": [
    "# List of animals"
   ]
  },
  {
   "cell_type": "code",
   "execution_count": 2,
   "id": "445e9ff0-f327-48b2-8fab-82d9a2f3bef4",
   "metadata": {},
   "outputs": [
    {
     "name": "stdout",
     "output_type": "stream",
     "text": [
      "A elephant would make a great pet.\n",
      "A tiger would make a great pet.\n",
      "A horse would make a great pet.\n",
      "Any of these animals would make a great pet!\n"
     ]
    }
   ],
   "source": [
    "animals = ['elephant', 'tiger', 'horse']\n",
    "for animal in animals:\n",
    "    print(f\"A {animal} would make a great pet.\")\n",
    "print(\"Any of these animals would make a great pet!\")"
   ]
  },
  {
   "cell_type": "markdown",
   "id": "2c1ed780-a2ae-44a8-a95a-fe9c7007f030",
   "metadata": {},
   "source": [
    "# Range 3"
   ]
  },
  {
   "cell_type": "code",
   "execution_count": 4,
   "id": "77284d1f-b739-49a0-b0c2-b6b1a7852258",
   "metadata": {},
   "outputs": [
    {
     "name": "stdout",
     "output_type": "stream",
     "text": [
      "3\n",
      "6\n",
      "9\n",
      "12\n",
      "15\n",
      "18\n",
      "21\n",
      "24\n",
      "27\n",
      "30\n",
      "[1, 8, 27, 64, 125, 216, 343, 512, 729, 1000]\n"
     ]
    }
   ],
   "source": [
    "multiples_of_3 = list(range(3, 31, 3))\n",
    "for number in multiples_of_3:\n",
    "    print(number)\n",
    "cubes = [x**3 for x in range(1, 11)]\n",
    "print(cubes)\n"
   ]
  },
  {
   "cell_type": "markdown",
   "id": "37906109-7a0d-427b-ac3c-f9ea8c4f8804",
   "metadata": {},
   "source": [
    "# Basic Foods"
   ]
  },
  {
   "cell_type": "code",
   "execution_count": 17,
   "id": "a53a36f7-4306-4755-928a-c32fc42ff707",
   "metadata": {},
   "outputs": [
    {
     "name": "stdout",
     "output_type": "stream",
     "text": [
      "chicken sesmi\n",
      "white sauce pasta\n",
      "red velvet\n",
      "donuts\n",
      "nutella muffins\n",
      "noodles\n",
      "lava cake\n",
      "cheese lava burger\n",
      "fruit salad\n",
      "russian salad\n"
     ]
    }
   ],
   "source": [
    "foods = ('chicken sesmi', 'white sauce pasta', 'red velvet', 'donuts', 'nutella muffins')\n",
    "for food in foods:\n",
    "    print(food)\n",
    "foods = ('noodles', 'lava cake', 'cheese lava burger', 'fruit salad', 'russian salad')\n",
    "for food in foods:\n",
    "    print(food)"
   ]
  },
  {
   "cell_type": "markdown",
   "id": "4dbb7a5b-dc2e-4d1d-bab7-562976cab37e",
   "metadata": {},
   "source": [
    "# Usernames"
   ]
  },
  {
   "cell_type": "code",
   "execution_count": 8,
   "id": "4ebdcda9-a9dd-45d8-a4b0-84cadc993bbe",
   "metadata": {},
   "outputs": [
    {
     "name": "stdout",
     "output_type": "stream",
     "text": [
      "Hello elsa, thank you for logging in again.\n",
      "Hello fiona, thank you for logging in again.\n",
      "Hello hailey, thank you for logging in again.\n",
      "Hello iris, thank you for logging in again.\n",
      "Hello joy, thank you for logging in again.\n"
     ]
    }
   ],
   "source": [
    "users = ['elsa', 'fiona', 'hailey', 'iris', 'joy']\n",
    "for user in users:\n",
    "    if user == 'admin':\n",
    "        print(\"Hello admin, would you like to see a status report?\")\n",
    "    else:\n",
    "        print(f\"Hello {user}, thank you for logging in again.\")\n"
   ]
  },
  {
   "cell_type": "markdown",
   "id": "3b91737c-e35b-42ba-95cc-baba0c491ffb",
   "metadata": {},
   "source": [
    "# Websites"
   ]
  },
  {
   "cell_type": "code",
   "execution_count": 10,
   "id": "4cb04077-d214-41fa-9d97-5113940b026c",
   "metadata": {},
   "outputs": [
    {
     "name": "stdout",
     "output_type": "stream",
     "text": [
      "fiona has already been used. You need to create a new one.\n",
      "elsa has already been used. You need to create a new one.\n",
      "admin is available.\n",
      "joy has already been used. You need to create a new one.\n",
      "hailey has already been used. You need to create a new one.\n"
     ]
    }
   ],
   "source": [
    "current_users = ['elsa', 'fiona', 'hailey', 'iris', 'joy']\n",
    "new_users = ['fiona', 'elsa', 'admin', 'joy', 'hailey']\n",
    "for new_user in new_users:\n",
    "    if new_user.lower() in [user.lower() for user in current_users]:\n",
    "        print(f\"{new_user} has already been used. You need to create a new one.\")\n",
    "    else:\n",
    "        print(f\"{new_user} is available.\")"
   ]
  },
  {
   "cell_type": "code",
   "execution_count": null,
   "id": "849106d7-35ea-44c9-aeab-926b17ff1afd",
   "metadata": {},
   "outputs": [],
   "source": []
  }
 ],
 "metadata": {
  "kernelspec": {
   "display_name": "Python [conda env:base]",
   "language": "python",
   "name": "conda-base-py"
  },
  "language_info": {
   "codemirror_mode": {
    "name": "ipython",
    "version": 3
   },
   "file_extension": ".py",
   "mimetype": "text/x-python",
   "name": "python",
   "nbconvert_exporter": "python",
   "pygments_lexer": "ipython3",
   "version": "3.12.7"
  }
 },
 "nbformat": 4,
 "nbformat_minor": 5
}
